{
 "cells": [
  {
   "cell_type": "markdown",
   "id": "17e3e84a",
   "metadata": {},
   "source": [
    "<h1>MILESTONE 4</h1>\n",
    "<h2>Bit-Rate Control in InterCom</h2>\n",
    "<ol>\n",
    "    <li>Estimate the bit-rate in an Internet link</li>\n",
    "    <li>Simulate the link</li>\n",
    "    <li>Which data-ordering performs better?</li>\n",
    "    <li>Compute RD (Rate/Distortion) curves</li>\n",
    "</ol>\n",
    "<h3>Estimate the bit-rate in an Internet link</h3>\n",
    "<p>To do this, we implemented a python script which calculates the minimum, maximum and average RTT value.</p>"
   ]
  },
  {
   "cell_type": "code",
   "execution_count": 28,
   "id": "0736b668",
   "metadata": {},
   "outputs": [
    {
     "name": "stdout",
     "output_type": "stream",
     "text": [
      "PING google.es (142.250.184.3) 1024(1052) bytes of data.\n",
      "\n",
      "--- google.es ping statistics ---\n",
      "1 packets transmitted, 1 received, 0% packet loss, time 0ms\n",
      "rtt min/avg/max/mdev = 513.232/513.232/513.232/0.000 ms\n",
      "Time 0 in seconds: 0.7603738307952881\n",
      "\n",
      "PING google.es (142.250.184.3) 1024(1052) bytes of data.\n",
      "\n",
      "--- google.es ping statistics ---\n",
      "1 packets transmitted, 1 received, 0% packet loss, time 0ms\n",
      "rtt min/avg/max/mdev = 191.425/191.425/191.425/0.000 ms\n",
      "Time 1 in seconds: 0.19568347930908203\n",
      "\n",
      "PING google.es (142.250.184.3) 1024(1052) bytes of data.\n",
      "\n",
      "--- google.es ping statistics ---\n",
      "1 packets transmitted, 1 received, 0% packet loss, time 0ms\n",
      "rtt min/avg/max/mdev = 754.413/754.413/754.413/0.000 ms\n",
      "Time 2 in seconds: 0.759392499923706\n",
      "\n",
      "PING google.es (142.250.184.3) 1024(1052) bytes of data.\n",
      "\n",
      "--- google.es ping statistics ---\n",
      "1 packets transmitted, 1 received, 0% packet loss, time 0ms\n",
      "rtt min/avg/max/mdev = 301.524/301.524/301.524/0.000 ms\n",
      "Time 3 in seconds: 0.3062870502471924\n",
      "\n",
      "PING google.es (142.250.184.3) 1024(1052) bytes of data.\n",
      "\n",
      "--- google.es ping statistics ---\n",
      "1 packets transmitted, 1 received, 0% packet loss, time 0ms\n",
      "rtt min/avg/max/mdev = 718.058/718.058/718.058/0.000 ms\n",
      "Time 4 in seconds: 0.7227873802185059\n",
      "\n",
      "PING google.es (142.250.184.3) 1024(1052) bytes of data.\n",
      "\n",
      "--- google.es ping statistics ---\n",
      "1 packets transmitted, 1 received, 0% packet loss, time 0ms\n",
      "rtt min/avg/max/mdev = 104.934/104.934/104.934/0.000 ms\n",
      "Time 5 in seconds: 0.10814833641052246\n",
      "\n",
      "PING google.es (142.250.184.3) 1024(1052) bytes of data.\n",
      "\n",
      "--- google.es ping statistics ---\n",
      "1 packets transmitted, 1 received, 0% packet loss, time 0ms\n",
      "rtt min/avg/max/mdev = 48.446/48.446/48.446/0.000 ms\n",
      "Time 6 in seconds: 0.052628517150878906\n",
      "\n",
      "PING google.es (142.250.184.3) 1024(1052) bytes of data.\n",
      "\n",
      "--- google.es ping statistics ---\n",
      "1 packets transmitted, 1 received, 0% packet loss, time 0ms\n",
      "rtt min/avg/max/mdev = 45.881/45.881/45.881/0.000 ms\n",
      "Time 7 in seconds: 0.050228118896484375\n",
      "\n",
      "PING google.es (142.250.184.3) 1024(1052) bytes of data.\n",
      "\n",
      "--- google.es ping statistics ---\n",
      "1 packets transmitted, 1 received, 0% packet loss, time 0ms\n",
      "rtt min/avg/max/mdev = 213.285/213.285/213.285/0.000 ms\n",
      "Time 8 in seconds: 0.21811962127685547\n",
      "\n",
      "PING google.es (142.250.184.3) 1024(1052) bytes of data.\n",
      "\n",
      "--- google.es ping statistics ---\n",
      "1 packets transmitted, 1 received, 0% packet loss, time 0ms\n",
      "rtt min/avg/max/mdev = 59.312/59.312/59.312/0.000 ms\n",
      "Time 9 in seconds: 0.0637514591217041\n",
      "\n",
      "RTT MIN: 0.050228118896484375\n",
      "RTT MAX: 0.7603738307952881\n",
      "RTT AVERAGE: 0.323740029335022\n"
     ]
    }
   ],
   "source": [
    "# This program is used to calculate RTT \n",
    "\n",
    "import time \n",
    "import os \n",
    "\n",
    "# Function to calculate the RTT \n",
    "def RTT(url, i): \n",
    "\n",
    "    # time period when the signal is sent \n",
    "    t1 = time.time() \n",
    "\n",
    "    # min time to obtain rtt values is 16\n",
    "    os.system(\"ping -c 1 -s 1024 -q \" + url)\n",
    "\n",
    "    # time period when acknowledgement of signal \n",
    "    # is received \n",
    "    t2 = time.time() \n",
    "    \n",
    "    # total time taken during this process \n",
    "    rtts = t2-t1 \n",
    "\n",
    "    print(\"\\nTime {} in seconds: {}\\n\".format(i, rtts))\n",
    "    return rtts\n",
    "\n",
    "# url address to hit\n",
    "url = \"google.es\"\n",
    "rtt_sum = 0\n",
    "rtt_average = 0.0\n",
    "rtt_min = 1000000\n",
    "rtt_max = -1000000\n",
    "for i in range(0, 10):\n",
    "    rtt_i = RTT(url, i)\n",
    "    rtt_sum = rtt_sum + rtt_i\n",
    "    \n",
    "    if(rtt_i < rtt_min):\n",
    "        rtt_min = rtt_i\n",
    "        \n",
    "    if(rtt_i > rtt_max):\n",
    "        rtt_max = rtt_i\n",
    "        \n",
    "rtt_average = rtt_sum / 10\n",
    "\n",
    "print(\"RTT MIN: {}\".format(rtt_min))\n",
    "print(\"RTT MAX: {}\".format(rtt_max))\n",
    "print(\"RTT AVERAGE: {}\".format(rtt_average))"
   ]
  },
  {
   "cell_type": "code",
   "execution_count": 16,
   "id": "53b47fd0",
   "metadata": {},
   "outputs": [
    {
     "name": "stdout",
     "output_type": "stream",
     "text": [
      "0.03582620620727539\n"
     ]
    }
   ],
   "source": [
    "tp = 0.07165241241455078 / 2\n",
    "print(tp)"
   ]
  },
  {
   "cell_type": "code",
   "execution_count": 23,
   "id": "c0ebfd95",
   "metadata": {},
   "outputs": [
    {
     "name": "stdout",
     "output_type": "stream",
     "text": [
      "0.0559697151184082\n"
     ]
    }
   ],
   "source": [
    "tt = (0.1835918426513672 - (2 * 0.03582620620727539))/2\n",
    "print(tt)"
   ]
  },
  {
   "cell_type": "code",
   "execution_count": 24,
   "id": "15ca6a7d",
   "metadata": {},
   "outputs": [
    {
     "name": "stdout",
     "output_type": "stream",
     "text": [
      "18295.608577489627\n"
     ]
    }
   ],
   "source": [
    "b = 1024/0.0559697151184082\n",
    "print(b)"
   ]
  },
  {
   "cell_type": "code",
   "execution_count": null,
   "id": "3b80eb81",
   "metadata": {},
   "outputs": [],
   "source": []
  }
 ],
 "metadata": {
  "kernelspec": {
   "display_name": "Python 3 (ipykernel)",
   "language": "python",
   "name": "python3"
  },
  "language_info": {
   "codemirror_mode": {
    "name": "ipython",
    "version": 3
   },
   "file_extension": ".py",
   "mimetype": "text/x-python",
   "name": "python",
   "nbconvert_exporter": "python",
   "pygments_lexer": "ipython3",
   "version": "3.10.6"
  }
 },
 "nbformat": 4,
 "nbformat_minor": 5
}
